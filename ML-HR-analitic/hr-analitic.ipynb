import pandas as pd
import numpy as np 
import matplotlib.pyplot as plt
import sklearn
import scipy

import seaborn as sns
sns.set()

from sklearn.model_selection import train_test_split

# Предподготовка категориальных и числовых данных
from sklearn.preprocessing import (
    OneHotEncoder, OrdinalEncoder,  #категориальные
    MinMaxScaler, StandardScaler    #числовые
)

from sklearn.pipeline import Pipeline
from sklearn.compose import ColumnTransformer
from sklearn.impute import SimpleImputer

import phik
from phik.report import plot_correlation_matrix
from phik import report

from sklearn.tree import (
    DecisionTreeRegressor, 
    DecisionTreeClassifier
)
from sklearn.linear_model import (
    LinearRegression, 
    LogisticRegression
)
from sklearn.ensemble import RandomForestRegressor

from sklearn.neighbors import KNeighborsClassifier 

from sklearn.model_selection import RandomizedSearchCV

from sklearn.metrics import (
    roc_auc_score, 
    roc_curve,
    make_scorer,
    confusion_matrix
)

from sklearn.inspection import permutation_importance
